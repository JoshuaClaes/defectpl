{
 "cells": [
  {
   "cell_type": "markdown",
   "metadata": {},
   "source": [
    "# Development"
   ]
  },
  {
   "cell_type": "code",
   "execution_count": 5,
   "metadata": {},
   "outputs": [],
   "source": [
    "# Imports\n",
    "from phonopy import Phonopy\n",
    "from phonopy.structure.atoms import PhonopyAtoms\n",
    "from phonopy.cui.load import load"
   ]
  },
  {
   "cell_type": "code",
   "execution_count": 6,
   "metadata": {},
   "outputs": [
    {
     "data": {
      "text/plain": [
       "'phonopy_params.yaml'"
      ]
     },
     "execution_count": 6,
     "metadata": {},
     "output_type": "execute_result"
    }
   ],
   "source": [
    "phonon = load(\"./hBN_data/phonopy.yaml\", force_sets_filename=\"./hBN_data/FORCE_SETS\")\n",
    "phonon.produce_force_constants()\n",
    "phonon.save()"
   ]
  },
  {
   "cell_type": "code",
   "execution_count": 7,
   "metadata": {},
   "outputs": [],
   "source": [
    "phonon = load(\"phonopy_params.yaml\")\n",
    "phonon.set_masses([30.0]*160)\n",
    "phonon.run_band_structure([[[0, 0, 0]]], with_eigenvectors=True)"
   ]
  },
  {
   "cell_type": "code",
   "execution_count": 8,
   "metadata": {},
   "outputs": [
    {
     "data": {
      "text/plain": [
       "array([30., 30., 30., 30., 30., 30., 30., 30., 30., 30., 30., 30., 30.,\n",
       "       30., 30., 30., 30., 30., 30., 30., 30., 30., 30., 30., 30., 30.,\n",
       "       30., 30., 30., 30., 30., 30., 30., 30., 30., 30., 30., 30., 30.,\n",
       "       30., 30., 30., 30., 30., 30., 30., 30., 30., 30., 30., 30., 30.,\n",
       "       30., 30., 30., 30., 30., 30., 30., 30., 30., 30., 30., 30., 30.,\n",
       "       30., 30., 30., 30., 30., 30., 30., 30., 30., 30., 30., 30., 30.,\n",
       "       30., 30., 30., 30., 30., 30., 30., 30., 30., 30., 30., 30., 30.,\n",
       "       30., 30., 30., 30., 30., 30., 30., 30., 30., 30., 30., 30., 30.,\n",
       "       30., 30., 30., 30., 30., 30., 30., 30., 30., 30., 30., 30., 30.,\n",
       "       30., 30., 30., 30., 30., 30., 30., 30., 30., 30., 30., 30., 30.,\n",
       "       30., 30., 30., 30., 30., 30., 30., 30., 30., 30., 30., 30., 30.,\n",
       "       30., 30., 30., 30., 30., 30., 30., 30., 30., 30., 30., 30., 30.,\n",
       "       30., 30., 30., 30.])"
      ]
     },
     "execution_count": 8,
     "metadata": {},
     "output_type": "execute_result"
    }
   ],
   "source": [
    "phonon.masses"
   ]
  },
  {
   "cell_type": "code",
   "execution_count": 9,
   "metadata": {},
   "outputs": [],
   "source": [
    "phonon.write_yaml_band_structure()"
   ]
  },
  {
   "cell_type": "code",
   "execution_count": 10,
   "metadata": {},
   "outputs": [
    {
     "name": "stdout",
     "output_type": "stream",
     "text": [
      "\u001b[1;31mSignature:\u001b[0m\n",
      "\u001b[0mphonon\u001b[0m\u001b[1;33m.\u001b[0m\u001b[0mwrite_yaml_band_structure\u001b[0m\u001b[1;33m(\u001b[0m\u001b[1;33m\n",
      "\u001b[0m    \u001b[0mcomment\u001b[0m\u001b[1;33m=\u001b[0m\u001b[1;32mNone\u001b[0m\u001b[1;33m,\u001b[0m\u001b[1;33m\n",
      "\u001b[0m    \u001b[0mfilename\u001b[0m\u001b[1;33m=\u001b[0m\u001b[1;32mNone\u001b[0m\u001b[1;33m,\u001b[0m\u001b[1;33m\n",
      "\u001b[0m    \u001b[0mcompression\u001b[0m\u001b[1;33m=\u001b[0m\u001b[1;32mNone\u001b[0m\u001b[1;33m,\u001b[0m\u001b[1;33m\n",
      "\u001b[0m\u001b[1;33m)\u001b[0m \u001b[1;33m->\u001b[0m \u001b[1;34m'None'\u001b[0m\u001b[1;33m\u001b[0m\u001b[1;33m\u001b[0m\u001b[0m\n",
      "\u001b[1;31mSource:\u001b[0m   \n",
      "    \u001b[1;32mdef\u001b[0m \u001b[0mwrite_yaml_band_structure\u001b[0m\u001b[1;33m(\u001b[0m\u001b[1;33m\n",
      "\u001b[0m        \u001b[0mself\u001b[0m\u001b[1;33m,\u001b[0m \u001b[0mcomment\u001b[0m\u001b[1;33m=\u001b[0m\u001b[1;32mNone\u001b[0m\u001b[1;33m,\u001b[0m \u001b[0mfilename\u001b[0m\u001b[1;33m=\u001b[0m\u001b[1;32mNone\u001b[0m\u001b[1;33m,\u001b[0m \u001b[0mcompression\u001b[0m\u001b[1;33m=\u001b[0m\u001b[1;32mNone\u001b[0m\u001b[1;33m\n",
      "\u001b[0m    \u001b[1;33m)\u001b[0m \u001b[1;33m->\u001b[0m \u001b[1;32mNone\u001b[0m\u001b[1;33m:\u001b[0m\u001b[1;33m\n",
      "\u001b[0m        \u001b[1;34m\"\"\"Write band structure in yaml.\n",
      "\n",
      "        Parameters\n",
      "        ----------\n",
      "        comment : dict\n",
      "            Data structure dumped in YAML and the dumped YAML text is put\n",
      "            at the beggining of the file.\n",
      "        filename : str\n",
      "            Default filename is 'band.yaml' when compression=None.\n",
      "            With compression, an extention of filename is added such as\n",
      "            'band.yaml.xz'.\n",
      "        compression : None, 'gzip', or 'lzma'\n",
      "            None gives usual text file. 'gzip and 'lzma' compresse yaml\n",
      "            text in respective compression methods.\n",
      "\n",
      "        \"\"\"\u001b[0m\u001b[1;33m\n",
      "\u001b[0m        \u001b[0mself\u001b[0m\u001b[1;33m.\u001b[0m\u001b[0m_band_structure\u001b[0m\u001b[1;33m.\u001b[0m\u001b[0mwrite_yaml\u001b[0m\u001b[1;33m(\u001b[0m\u001b[1;33m\n",
      "\u001b[0m            \u001b[0mcomment\u001b[0m\u001b[1;33m=\u001b[0m\u001b[0mcomment\u001b[0m\u001b[1;33m,\u001b[0m \u001b[0mfilename\u001b[0m\u001b[1;33m=\u001b[0m\u001b[0mfilename\u001b[0m\u001b[1;33m,\u001b[0m \u001b[0mcompression\u001b[0m\u001b[1;33m=\u001b[0m\u001b[0mcompression\u001b[0m\u001b[1;33m\n",
      "\u001b[0m        \u001b[1;33m)\u001b[0m\u001b[1;33m\u001b[0m\u001b[1;33m\u001b[0m\u001b[0m\n",
      "\u001b[1;31mFile:\u001b[0m      c:\\users\\shibu\\.conda\\envs\\defectpl\\lib\\site-packages\\phonopy\\api_phonopy.py\n",
      "\u001b[1;31mType:\u001b[0m      method"
     ]
    }
   ],
   "source": [
    "phonon.write_yaml_band_structure??"
   ]
  },
  {
   "cell_type": "code",
   "execution_count": null,
   "metadata": {},
   "outputs": [
    {
     "data": {
      "text/plain": [
       "[10.0, 10.0, 14.0, 14.0, 12.0]"
      ]
     },
     "execution_count": 22,
     "metadata": {},
     "output_type": "execute_result"
    }
   ],
   "source": [
    "\n",
    "\n",
    "mass_dict = {'B': 10.0, 'N': 14.0, 'C': 12.0}\n",
    "natom_dict = {'B': 2, 'N': 2, 'C': 1}\n",
    "atom_seq = ['B', 'N', 'C']\n",
    "masses = get_mass_array(mass_dict, natom_dict, atom_seq)\n",
    "masses"
   ]
  },
  {
   "cell_type": "code",
   "execution_count": null,
   "metadata": {},
   "outputs": [],
   "source": [
    "import phonopy\n",
    "from phonopy.phonon.band_structure import get_band_qpoints_and_path_connections\n",
    "phonon.run_band_structure(qpoints, path_connections=connections, labels=labels)\n",
    "# phonon.plot_band_structure().show()"
   ]
  },
  {
   "cell_type": "code",
   "execution_count": 1,
   "metadata": {},
   "outputs": [],
   "source": [
    "from defectpl.comparepl import ComparePl"
   ]
  },
  {
   "cell_type": "code",
   "execution_count": 4,
   "metadata": {},
   "outputs": [
    {
     "name": "stdout",
     "output_type": "stream",
     "text": [
      "All plots are saved in the output directory.\n",
      "Properties are saved in a json file.\n"
     ]
    }
   ],
   "source": [
    "from defectpl.defectpl import DefectPl\n",
    "\n",
    "band_yaml = \"../defectpl/tests/data/band.yaml\"\n",
    "contcar_gs = \"../defectpl/tests/data/CONTCAR_gs\"\n",
    "contcar_es = \"../defectpl/tests/data/CONTCAR_es\"\n",
    "out_dir = \"./\"\n",
    "EZPL = 1.95\n",
    "gamma = 2\n",
    "plot_all = True\n",
    "iplot_xlim = [1000, 2000]\n",
    "\n",
    "defctpl = DefectPl(\n",
    "    band_yaml,\n",
    "    contcar_gs,\n",
    "    contcar_es,\n",
    "    EZPL,\n",
    "    gamma,\n",
    "    iplot_xlim=iplot_xlim,\n",
    "    plot_all=plot_all,\n",
    "    out_dir=out_dir,\n",
    ")"
   ]
  },
  {
   "cell_type": "code",
   "execution_count": 1,
   "metadata": {},
   "outputs": [
    {
     "name": "stdout",
     "output_type": "stream",
     "text": [
      "All plots are saved in the output directory.\n",
      "Properties are saved in a json file.\n"
     ]
    }
   ],
   "source": [
    "# For hBN\n",
    "from defectpl.defectpl import DefectPl\n",
    "\n",
    "band_yaml = \"./hBN_data/band.yaml\"\n",
    "contcar_gs = \"./hBN_data/CONTCAR_gs\"\n",
    "contcar_es = \"./hBN_data/CONTCAR_es\"\n",
    "out_dir = \"./\"\n",
    "EZPL = 4.95\n",
    "gamma = 2\n",
    "plot_all = True\n",
    "# iplot_xlim = [3800, 4150]\n",
    "iplot_xlim = None\n",
    "\n",
    "pl = DefectPl(\n",
    "    band_yaml,\n",
    "    contcar_gs,\n",
    "    contcar_es,\n",
    "    EZPL,\n",
    "    gamma,\n",
    "    iplot_xlim=iplot_xlim,\n",
    "    plot_all=plot_all,\n",
    "    out_dir=out_dir,\n",
    ")"
   ]
  },
  {
   "cell_type": "code",
   "execution_count": 9,
   "metadata": {},
   "outputs": [
    {
     "data": {
      "text/plain": [
       "numpy.ndarray"
      ]
     },
     "execution_count": 9,
     "metadata": {},
     "output_type": "execute_result"
    }
   ],
   "source": [
    "type(defctpl.I)"
   ]
  },
  {
   "cell_type": "code",
   "execution_count": 2,
   "metadata": {},
   "outputs": [
    {
     "name": "stdout",
     "output_type": "stream",
     "text": [
      "Properties are saved in a json file.\n"
     ]
    }
   ],
   "source": [
    "data = pl.to_json(out_dir=\"./\")"
   ]
  },
  {
   "cell_type": "code",
   "execution_count": 4,
   "metadata": {},
   "outputs": [
    {
     "data": {
      "text/plain": [
       "dict_keys(['class', 'frequencies', 'iprs', 'localization_ratio', 'qks', 'Sks', 'S_omega', 'omega_range', 'I', 'resolution', 'delta_R', 'delta_Q', 'HR_factor', 'dR', 'EZPL', 'gamma', 'natoms', 'masses', 'max_energy'])"
      ]
     },
     "execution_count": 4,
     "metadata": {},
     "output_type": "execute_result"
    }
   ],
   "source": [
    "data.keys()"
   ]
  }
 ],
 "metadata": {
  "kernelspec": {
   "display_name": "defectpl",
   "language": "python",
   "name": "python3"
  },
  "language_info": {
   "codemirror_mode": {
    "name": "ipython",
    "version": 3
   },
   "file_extension": ".py",
   "mimetype": "text/x-python",
   "name": "python",
   "nbconvert_exporter": "python",
   "pygments_lexer": "ipython3",
   "version": "3.11.10"
  }
 },
 "nbformat": 4,
 "nbformat_minor": 2
}
